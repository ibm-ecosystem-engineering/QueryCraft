{
 "cells": [
  {
   "cell_type": "markdown",
   "id": "b9495e92",
   "metadata": {},
   "source": [
    "## funcContextRetriever"
   ]
  },
  {
   "cell_type": "code",
   "execution_count": null,
   "id": "03a74713",
   "metadata": {},
   "outputs": [],
   "source": [
    "# cr.funcContextRetriever(db_type = \"sqlite\",input_file = \"../input/datasets/spider.csv\")\n",
    "\n",
    "# cr.funcContextRetriever(db_type = \"db2\",input_file = \"../input/datasets/DB2_Context_Input.csv\")\n",
    "import context_retriever as cr\n",
    "import configparser\n",
    "\n",
    "config_filePath=\"./../superConfig.ini\"\n",
    "config = configparser.ConfigParser()\n",
    "config.read(config_filePath)\n",
    "config.sections()\n",
    "\n",
    "input_database_folder = config['ContextRetriever']['input_database_folder']\n",
    "input_file = config['ContextRetriever']['input_data_file']\n",
    "db_type = config['ContextRetriever']['db_type']\n",
    "\n",
    "cr.funcContextRetriever(db_type ,input_file, input_database_folder)"
   ]
  },
  {
   "cell_type": "markdown",
   "id": "47ef6c8c",
   "metadata": {},
   "source": [
    "## load_data_into_db"
   ]
  },
  {
   "cell_type": "code",
   "execution_count": 1,
   "id": "6f846a5b",
   "metadata": {},
   "outputs": [],
   "source": [
    "import DB2_Ingestion as dbin"
   ]
  },
  {
   "cell_type": "code",
   "execution_count": 2,
   "id": "71137ca6",
   "metadata": {},
   "outputs": [
    {
     "data": {
      "text/plain": [
       "['Default',\n",
       " 'Finetune',\n",
       " 'DataIngestion',\n",
       " 'ContextRetriever',\n",
       " 'Inference',\n",
       " 'EXEvaluator',\n",
       " 'QueryCorrection',\n",
       " 'QueryAnalysisDashboard']"
      ]
     },
     "execution_count": 2,
     "metadata": {},
     "output_type": "execute_result"
    }
   ],
   "source": [
    "import configparser\n",
    "\n",
    "config_filePath=\"./../superConfig.ini\"\n",
    "config = configparser.ConfigParser()\n",
    "config.read(config_filePath)\n",
    "config.sections()"
   ]
  },
  {
   "cell_type": "code",
   "execution_count": 3,
   "id": "feed011d",
   "metadata": {},
   "outputs": [
    {
     "data": {
      "text/plain": [
       "'Data Ingested into people'"
      ]
     },
     "execution_count": 3,
     "metadata": {},
     "output_type": "execute_result"
    }
   ],
   "source": [
    "filename = config['DataIngestion']['filename']\n",
    "table_name= config['DataIngestion']['table_name']\n",
    "\n",
    "dbin.load_data_into_db(filename,table_name)"
   ]
  },
  {
   "cell_type": "code",
   "execution_count": null,
   "id": "13d9878d",
   "metadata": {},
   "outputs": [],
   "source": []
  }
 ],
 "metadata": {
  "kernelspec": {
   "display_name": "finetune",
   "language": "python",
   "name": "finetune"
  },
  "language_info": {
   "codemirror_mode": {
    "name": "ipython",
    "version": 3
   },
   "file_extension": ".py",
   "mimetype": "text/x-python",
   "name": "python",
   "nbconvert_exporter": "python",
   "pygments_lexer": "ipython3",
   "version": "3.10.12"
  }
 },
 "nbformat": 4,
 "nbformat_minor": 5
}
