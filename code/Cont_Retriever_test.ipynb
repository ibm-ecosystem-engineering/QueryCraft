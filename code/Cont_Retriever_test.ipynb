{
 "cells": [
  {
   "cell_type": "markdown",
   "id": "b7a2d0a8",
   "metadata": {},
   "source": [
    "## funcContextRetriever"
   ]
  },
  {
   "cell_type": "code",
   "execution_count": 4,
   "id": "cb19bc24",
   "metadata": {},
   "outputs": [
    {
     "name": "stdout",
     "output_type": "stream",
     "text": [
      "CREATE TABLE EMPLOYEE (\n",
      "\tAGE INTEGER,\n",
      "\tDEPARTMENT VARCHAR(50),\n",
      "\tEMAIL VARCHAR(100),\n",
      "\tEMPLOYEEID INTEGER,\n",
      "\tFIRSTNAME VARCHAR(50),\n",
      "\tLASTNAME VARCHAR(50),\n",
      "\tPRIMARY KEY (EMPLOYEEID)\n",
      ")\n",
      "CREATE TABLE PEOPLE (\n",
      "\tAGE INTEGER,\n",
      "\tNAME VARCHAR(1000),\n",
      "\tWEIGHT DOUBLE\n",
      ")\n",
      "CREATE TABLE PRODUCT (\n",
      "\tCATEGORY VARCHAR(50),\n",
      "\tDESCRIPTION VARCHAR(255),\n",
      "\tPRODUCTID INTEGER,\n",
      "\tPRODUCTNAME VARCHAR(100),\n",
      "\tPRIMARY KEY (PRODUCTID)\n",
      ")\n",
      "CREATE TABLE STOREPRODUCT (\n",
      "\tPRICE DECIMAL,\n",
      "\tPRODUCTID INTEGER,\n",
      "\tQUANTITY INTEGER,\n",
      "\tSTOREID INTEGER,\n",
      "\tSTOREPRODUCTID INTEGER,\n",
      "\tPRIMARY KEY (STOREPRODUCTID)\n",
      ")\n",
      "CREATE TABLE STUDENT (\n",
      "\tMARKS INTEGER,\n",
      "\tNAME VARCHAR(255),\n",
      "\tROLL_NO INTEGER,\n",
      "\tSUBJECT VARCHAR(255),\n",
      "\tPRIMARY KEY (ROLL_NO)\n",
      ")\n"
     ]
    },
    {
     "data": {
      "text/plain": [
       "'Generated Retriver file: ../input/datasets/ContextRetriever_test.csv'"
      ]
     },
     "execution_count": 4,
     "metadata": {},
     "output_type": "execute_result"
    }
   ],
   "source": [
    "# cr.funcContextRetriever(db_type = \"sqlite\",input_file = \"../input/datasets/spider.csv\")\n",
    "\n",
    "# cr.funcContextRetriever(db_type = \"db2\",input_file = \"../input/datasets/DB2_Context_Input.csv\")\n",
    "import context_retriever as cr\n",
    "import configparser\n",
    "\n",
    "config_filePath=\"./../superConfig.ini\"\n",
    "config = configparser.ConfigParser()\n",
    "config.read(config_filePath)\n",
    "config.sections()\n",
    "\n",
    "input_database_folder = config['ContextRetriever']['input_database_folder']\n",
    "input_file = config['ContextRetriever']['input_data_file']\n",
    "db_type = config['ContextRetriever']['db_type']\n",
    "\n",
    "cr.funcContextRetriever(db_type ,input_file, input_database_folder)"
   ]
  },
  {
   "cell_type": "markdown",
   "id": "64f259b2",
   "metadata": {},
   "source": [
    "## load_data_into_db"
   ]
  },
  {
   "cell_type": "code",
   "execution_count": 1,
   "id": "962d81ef",
   "metadata": {},
   "outputs": [],
   "source": [
    "import DB2_Ingestion as dbin"
   ]
  },
  {
   "cell_type": "code",
   "execution_count": 2,
   "id": "385955db",
   "metadata": {},
   "outputs": [
    {
     "data": {
      "text/plain": [
       "['Default',\n",
       " 'Finetune',\n",
       " 'DataIngestion',\n",
       " 'ContextRetriever',\n",
       " 'Inference',\n",
       " 'EXEvaluator',\n",
       " 'QueryCorrection',\n",
       " 'QueryAnalysisDashboard']"
      ]
     },
     "execution_count": 2,
     "metadata": {},
     "output_type": "execute_result"
    }
   ],
   "source": [
    "import configparser\n",
    "\n",
    "config_filePath=\"./../superConfig.ini\"\n",
    "config = configparser.ConfigParser()\n",
    "config.read(config_filePath)\n",
    "config.sections()"
   ]
  },
  {
   "cell_type": "code",
   "execution_count": 3,
   "id": "950b979e",
   "metadata": {},
   "outputs": [
    {
     "data": {
      "text/plain": [
       "'Data Ingested into people'"
      ]
     },
     "execution_count": 3,
     "metadata": {},
     "output_type": "execute_result"
    }
   ],
   "source": [
    "filename = config['DataIngestion']['filename']\n",
    "table_name= config['DataIngestion']['table_name']\n",
    "\n",
    "dbin.load_data_into_db(filename,table_name)"
   ]
  },
  {
   "cell_type": "code",
   "execution_count": null,
   "id": "c664de71",
   "metadata": {},
   "outputs": [],
   "source": []
  }
 ],
 "metadata": {
  "kernelspec": {
   "display_name": "finetune",
   "language": "python",
   "name": "finetune"
  },
  "language_info": {
   "codemirror_mode": {
    "name": "ipython",
    "version": 3
   },
   "file_extension": ".py",
   "mimetype": "text/x-python",
   "name": "python",
   "nbconvert_exporter": "python",
   "pygments_lexer": "ipython3",
   "version": "3.10.12"
  }
 },
 "nbformat": 4,
 "nbformat_minor": 5
}
