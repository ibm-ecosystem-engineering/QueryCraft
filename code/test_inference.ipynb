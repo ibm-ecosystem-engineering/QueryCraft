{
 "cells": [
  {
   "cell_type": "code",
   "execution_count": null,
   "id": "bae632a3",
   "metadata": {},
   "outputs": [],
   "source": [
    "import inference_new as inf"
   ]
  },
  {
   "cell_type": "code",
   "execution_count": null,
   "id": "0b008ded",
   "metadata": {},
   "outputs": [],
   "source": [
    "inf.funcInference(model_name=\"ibm/granite-13b-chat-v1\")"
   ]
  },
  {
   "cell_type": "code",
   "execution_count": null,
   "id": "d2898a6e",
   "metadata": {},
   "outputs": [],
   "source": []
  },
  {
   "cell_type": "code",
   "execution_count": null,
   "id": "f0e1ce53",
   "metadata": {},
   "outputs": [],
   "source": []
  }
 ],
 "metadata": {
  "kernelspec": {
   "display_name": "akTextToSql",
   "language": "python",
   "name": "aktexttosql"
  },
  "language_info": {
   "codemirror_mode": {
    "name": "ipython",
    "version": 3
   },
   "file_extension": ".py",
   "mimetype": "text/x-python",
   "name": "python",
   "nbconvert_exporter": "python",
   "pygments_lexer": "ipython3",
   "version": "3.9.17"
  }
 },
 "nbformat": 4,
 "nbformat_minor": 5
}
