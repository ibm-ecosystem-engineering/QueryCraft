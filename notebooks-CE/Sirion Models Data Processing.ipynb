{
 "cells": [
  {
   "cell_type": "code",
   "execution_count": null,
   "id": "9ca368fa-91ff-411e-be0a-54783bd7fa4f",
   "metadata": {
    "scrolled": true
   },
   "outputs": [],
   "source": [
    "!pip freeze"
   ]
  },
  {
   "cell_type": "code",
   "execution_count": null,
   "id": "10f01177-1724-4285-8bcb-f91647e00926",
   "metadata": {},
   "outputs": [],
   "source": [
    "import pandas as pd\n",
    "import re\n",
    "import warnings\n",
    "from sql_metadata import Parser\n",
    "from matplotlib import pyplot as plt\n",
    "\n",
    "warnings.filterwarnings('ignore')"
   ]
  },
  {
   "cell_type": "code",
   "execution_count": null,
   "id": "d3daf039-5b9b-4992-bade-ca295c85bb01",
   "metadata": {},
   "outputs": [],
   "source": [
    "ls ../input/_dataset/"
   ]
  },
  {
   "cell_type": "code",
   "execution_count": null,
   "id": "ea09b88d-3fd7-4313-82e3-47189fd14e59",
   "metadata": {},
   "outputs": [],
   "source": [
    "query_keywords_list = [\n",
    "    \"TOP\",\"EXISTS\",\"INTERSECT\",\"SELECT\",\"DISTINCT\",\"RANK\",\"AS\",\n",
    "    \"WHERE\",\"AND\",\"OR\",\"BETWEEN\",\"LIKE\",\"COUNT\",\"SUM\",\"AVG\",\n",
    "    \"MIN\",\"MAX\",\"GROUP BY\",\"ORDER BY\",\"DESC\",\"OFFSET\",\"FETCH\",\n",
    "    \"INNER JOIN\",\"LEFT JOIN\",\"RIGHT JOIN\",\"FULL JOIN\",\"UNION\",\n",
    "    \"HAVING\",\"JOIN\"\n",
    "]\n",
    "aggregate_keywords = [\"COUNT\",\"SUM\",\"AVG\",\"MIN\",\"MAX\",\"TOP\"]\n",
    "rank_keywords = [\"RANK\"]\n",
    "fillter_keywords = [\"GROUP BY\",\"ORDER BY\",\"FILTER\",\"HAVING\",\"EXISTS\"]\n",
    "join_keywords = [\n",
    "    \"JOIN\",\"INNER JOIN\",\"LEFT JOIN\",\"RIGHT JOIN\",\"FULL JOIN\",\"UNION\",\"INTERSECT\"\n",
    "]\n",
    "orderby_keywords = [\"ORDER BY\"]\n",
    "groupby_keywords = [\"GROUP BY\"]\n",
    "where_keywords =[\"WHERE\"]\n",
    "date_keywords =[\n",
    "    \"NOW\",\"GETDATE\",\"CURRENT_TIMESTAMP\",\"DATEDIFF\",\"DATEADD\",\"YEAR\",\"DAY\",\"MONTH\"\n",
    "]\n",
    "keyword_pattern = re.compile(r'\\b(?:' + '|'.join(query_keywords_list) + r')\\b', re.IGNORECASE)"
   ]
  },
  {
   "cell_type": "code",
   "execution_count": null,
   "id": "9fb4654f-bec1-49cc-b15d-f154e62823bc",
   "metadata": {},
   "outputs": [],
   "source": [
    "def calculate_classification_new(df):\n",
    "    ## Create new 3 columns \n",
    "    df[\"Expected count\"] = df.index\n",
    "    df[\"Expected difficulty\"] = df.index\n",
    "    df[\"Expected classification_new\"] = df.index\n",
    "    for index, row in df.iterrows():\n",
    "        sql = row[\"Expected Query\"]\n",
    "        count =0\n",
    "        classification =\"\"\n",
    "        for keyword in query_keywords_list:\n",
    "            if keyword in sql:\n",
    "                count=count+1\n",
    "                if keyword in orderby_keywords:\n",
    "                    classification = \"ORDER BY\"\n",
    "                elif keyword in groupby_keywords:\n",
    "                    classification = \"GROUP BY\"\n",
    "                elif keyword in aggregate_keywords:\n",
    "                    classification = \"AGGREGATE/RATIO\"\n",
    "                elif keyword in join_keywords:\n",
    "                    classification = \"JOIN\"\n",
    "                elif keyword in where_keywords:\n",
    "                    classification = \"WHERE\"\n",
    "                elif keyword in date_keywords:\n",
    "                    classification = \"DATE\"\n",
    "                ## join  for category \n",
    "                ## pre-trained codellama model what type of query are not correct.\n",
    "\n",
    "        if count < 6:\n",
    "            df.at[index,'Expected difficulty'] =\"simple\"\n",
    "        elif count > 5 and count < 9:\n",
    "            df.at[index,'Expected difficulty'] =\"moderate\"\n",
    "        else:\n",
    "            df.at[index,'Expected difficulty'] =\"challenging\"\n",
    "        if classification == '':\n",
    "            classification = 'SELECT'\n",
    "\n",
    "        df.at[index,'Expected classification_new'] = classification\n",
    "        df.at[index,'Expected count'] =count\n",
    "\n",
    "\n",
    "    ## Create new 3 columns \n",
    "    df[\"Predicted count\"] = df.index\n",
    "    df[\"Predicted difficulty\"] = df.index\n",
    "    df[\"Predicted classification_new\"] = df.index\n",
    "    for index, row in df.iterrows():\n",
    "        sql = row[\"Predicted Query\"]\n",
    "        count =0\n",
    "        classification =\"\"\n",
    "        for keyword in query_keywords_list:\n",
    "            if keyword in sql:\n",
    "                count=count+1\n",
    "                if keyword in orderby_keywords:\n",
    "                    classification = \"ORDER BY\"\n",
    "                elif keyword in groupby_keywords:\n",
    "                    classification = \"GROUP BY\"\n",
    "                elif keyword in aggregate_keywords:\n",
    "                    classification = \"AGGREGATE/RATIO\"\n",
    "                elif keyword in join_keywords:\n",
    "                    classification = \"JOIN\"\n",
    "                elif keyword in where_keywords:\n",
    "                    classification = \"WHERE\"\n",
    "                elif keyword in date_keywords:\n",
    "                    classification = \"DATE\"\n",
    "                ## join  for category \n",
    "                ## pre-trained codellama model what type of query are not correct.\n",
    "\n",
    "        if count < 6:\n",
    "            df.at[index,'Predicted difficulty'] =\"simple\"\n",
    "        elif count > 5 and count < 9:\n",
    "            df.at[index,'Predicted difficulty'] =\"moderate\"\n",
    "        else:\n",
    "            df.at[index,'Predicted difficulty'] =\"challenging\"\n",
    "        if classification == '':\n",
    "            classification = 'SELECT'\n",
    "\n",
    "        df.at[index,'Predicted classification_new'] = classification\n",
    "        df.at[index,'Predicted count'] =count\n",
    "    return df\n",
    "\n",
    "def calculate_classification(df):\n",
    "    ## Create new 3 columns \n",
    "    df[\"Expected count\"] = df.index\n",
    "    df[\"Expected difficulty\"] = df.index\n",
    "    df[\"Expected classification\"] = df.index\n",
    "    for index, row in df.iterrows():\n",
    "        sql = row[\"Expected Query\"]\n",
    "        count =0\n",
    "        classification =\"\"\n",
    "        for keyword in query_keywords_list:\n",
    "            if keyword in sql:\n",
    "                count=count+1\n",
    "                if keyword in rank_keywords:\n",
    "                    classification = \"RANK\"\n",
    "                elif keyword in fillter_keywords:\n",
    "                    classification = \"FILTER\"\n",
    "                elif keyword in aggregate_keywords:\n",
    "                    classification = \"AGGREGATE\"\n",
    "                elif keyword in join_keywords:\n",
    "                    classification = \"JOIN\"\n",
    "                ## join  for category \n",
    "                ## pre-trained codellama model what type of query are not correct.\n",
    "\n",
    "        if count < 6:\n",
    "            df.at[index,'Expected difficulty'] =\"simple\"\n",
    "        elif count > 5 and count < 9:\n",
    "            df.at[index,'Expected difficulty'] =\"moderate\"\n",
    "        else:\n",
    "            df.at[index,'Expected difficulty'] =\"challenging\"\n",
    "        if classification == '':\n",
    "            classification = 'SELECT'\n",
    "\n",
    "        df.at[index,'Expected classification'] = classification\n",
    "        df.at[index,'Expected count'] =count\n",
    "\n",
    "        ## Create new 3 columns \n",
    "    df[\"Predicted count\"] = df.index\n",
    "    df[\"Predicted difficulty\"] = df.index\n",
    "    df[\"Predicted classification\"] = df.index\n",
    "    for index, row in df.iterrows():\n",
    "        sql = row[\"Predicted Query\"]\n",
    "        count =0\n",
    "        classification =\"\"\n",
    "        for keyword in query_keywords_list:\n",
    "            if keyword in sql:\n",
    "                count=count+1\n",
    "                if keyword in rank_keywords:\n",
    "                    classification = \"RANK\"\n",
    "                elif keyword in fillter_keywords:\n",
    "                    classification = \"FILTER\"\n",
    "                elif keyword in aggregate_keywords:\n",
    "                    classification = \"AGGREGATE\"\n",
    "                elif keyword in join_keywords:\n",
    "                    classification = \"JOIN\"\n",
    "                ## join  for category \n",
    "                ## pre-trained codellama model what type of query are not correct.\n",
    "\n",
    "        if count < 6:\n",
    "            df.at[index,'Predicted difficulty'] =\"simple\"\n",
    "        elif count > 5 and count < 9:\n",
    "            df.at[index,'Predicted difficulty'] =\"moderate\"\n",
    "        else:\n",
    "            df.at[index,'Predicted difficulty'] =\"challenging\"\n",
    "        if classification == '':\n",
    "            classification = 'SELECT'\n",
    "\n",
    "        df.at[index,'Predicted classification'] = classification\n",
    "        df.at[index,'Predicted count'] =count\n",
    "    return df\n"
   ]
  },
  {
   "cell_type": "code",
   "execution_count": null,
   "id": "5cd2ff84-5d0b-4714-9bbc-04692522f962",
   "metadata": {},
   "outputs": [],
   "source": [
    "def tokenize_sql_query(sql_query):\n",
    "    token_list = []\n",
    "    try:\n",
    "        for token in Parser(sql_query).tokens:\n",
    "            token_list.append(str(token.value))\n",
    "    except:\n",
    "        pass\n",
    "    return token_list"
   ]
  },
  {
   "cell_type": "code",
   "execution_count": null,
   "id": "aba591d3-3c85-48e1-b029-472aa9dd5de5",
   "metadata": {},
   "outputs": [],
   "source": [
    " # evaluation_results_multi_shot_cot_synonyms_codellama_codellama-34b-instruct.csv\n",
    " # evaluation_results_multi_shot_cot_synonyms_ibm_granite-34b-code-instruct.csv\n",
    " # evaluation_results_multi_shot_cot_synonyms_deepseek-ai_deepseek-coder-33b-instruct.csv\n",
    " # evaluation_results_multi_shot_cot_synonyms_ibm_granite-13b-instruct-v2.csv\n",
    " # evaluation_results_multi_shot_cot_synonyms_ibm_granite-20b-code-instruct.csv #errors\n",
    " # evaluation_results_multi_shot_cot_synonyms_ibm_granite-8b-code-instruct.csv\n",
    " # evaluation_results_multi_shot_cot_synonyms_kaist-ai_prometheus-8x7b-v2.csv\n",
    " # evaluation_results_multi_shot_cot_synonyms_meta-llama_llama-3-70b-instruct.csv\n",
    " # evaluation_results_multi_shot_cot_synonyms_mistralai_mixtral-8x7b-instruct-v01.csv"
   ]
  },
  {
   "cell_type": "markdown",
   "id": "b2b47f7e-9447-4940-96ba-b718eeebce2d",
   "metadata": {},
   "source": [
    "# codellama_34b_instruct"
   ]
  },
  {
   "cell_type": "code",
   "execution_count": null,
   "id": "75a7042e-5162-49c1-bdcb-e4f187c25c23",
   "metadata": {},
   "outputs": [],
   "source": [
    "prediction_codellama_34b_instruct_data = pd.read_csv(\"../input/_dataset/evaluation_results_multi_shot_cot_synonyms_codellama_codellama-34b-instruct.csv\")[[\"Question\",\"Entity\",\"Expected\",\"Answers_codellama_codellama-34b-instruct\"]].rename(columns={\"Answers_codellama_codellama-34b-instruct\":\"Predicted Query\",\"Expected\":\"Expected Query\"})\n",
    "prediction_codellama_34b_instruct_data[\"predicted_query_toks\"] = prediction_codellama_34b_instruct_data[\"Predicted Query\"].apply(tokenize_sql_query).astype(str).replace(\",\",\" \")\n",
    "prediction_codellama_34b_instruct_data[\"expected_query_toks\"] = prediction_codellama_34b_instruct_data[\"Expected Query\"].apply(tokenize_sql_query).astype(str).replace(\",\",\" \")\n",
    "\n",
    "prediction_codellama_34b_instruct_data = calculate_classification(prediction_codellama_34b_instruct_data,)\n",
    "prediction_codellama_34b_instruct_data = calculate_classification_new(prediction_codellama_34b_instruct_data)\n",
    "prediction_codellama_34b_instruct_data = prediction_codellama_34b_instruct_data.rename(columns={\"query\":\"Answers_codellama_codellama-34b-instruct\"})#[[\"Question\",\"Entity\",\"Expected\",\"Answers_codellama_codellama-34b-instruct\",\"query_toks\",\"count\",\"difficulty\",\"classification\",\"classification_new\"]]\n",
    "prediction_codellama_34b_instruct_data.to_csv(\"../output/inference__v2/codellama_34b_instruct.csv\")\n",
    "prediction_codellama_34b_instruct_data"
   ]
  },
  {
   "cell_type": "markdown",
   "id": "e034eb1b-2683-4e9c-b45f-05777afad647",
   "metadata": {},
   "source": [
    "# ibm_granite_34b_code_instruct"
   ]
  },
  {
   "cell_type": "code",
   "execution_count": null,
   "id": "fb8f32ce-83c0-4f38-a00e-7ae0d4349b9d",
   "metadata": {},
   "outputs": [],
   "source": [
    "prediction_ibm_granite_34b_instruct_data = pd.read_csv(\"../input/_dataset/evaluation_results_multi_shot_cot_synonyms_ibm_granite-34b-code-instruct.csv\").rename(columns={\"Answers_ibm_granite-34b-code-instruct\":\"Predicted Query\",\"Expected\":\"Expected Query\"})\n",
    "prediction_ibm_granite_34b_instruct_data[\"predicted_query_toks\"] = prediction_ibm_granite_34b_instruct_data[\"Predicted Query\"].apply(tokenize_sql_query).astype(str).replace(\",\",\" \")\n",
    "prediction_ibm_granite_34b_instruct_data[\"expected_query_toks\"] = prediction_ibm_granite_34b_instruct_data[\"Expected Query\"].apply(tokenize_sql_query).astype(str).replace(\",\",\" \")\n",
    "\n",
    "prediction_ibm_granite_34b_instruct_data = calculate_classification(prediction_ibm_granite_34b_instruct_data,)\n",
    "prediction_ibm_granite_34b_instruct_data = calculate_classification_new(prediction_ibm_granite_34b_instruct_data)\n",
    "prediction_ibm_granite_34b_instruct_data = prediction_ibm_granite_34b_instruct_data.rename(columns={\"query\":\"Answers_ibm_granite-34b-code-instruct\"})#[[\"Question\",\"Entity\",\"Expected\",\"Answers_ibm_granite-34b-instruct\",\"query_toks\",\"count\",\"difficulty\",\"classification\",\"classification_new\"]]\n",
    "prediction_ibm_granite_34b_instruct_data.to_csv(\"../output/inference__v2/ibm_granite_34b_code_instruct.csv\")\n",
    "prediction_ibm_granite_34b_instruct_data"
   ]
  },
  {
   "cell_type": "code",
   "execution_count": null,
   "id": "1a23ade6-d3f2-4f8e-a08e-2c9e0d42cb4c",
   "metadata": {},
   "outputs": [],
   "source": [
    "prediction_ibm_granite_34b_instruct_data.columns"
   ]
  },
  {
   "cell_type": "markdown",
   "id": "401acf7f-e335-403f-b129-8f1ff984fdf3",
   "metadata": {},
   "source": [
    "# Deepseek_coder_33b_instruct_data"
   ]
  },
  {
   "cell_type": "code",
   "execution_count": null,
   "id": "963dc2d0-a81b-4173-bf8d-9090f759fb5a",
   "metadata": {},
   "outputs": [],
   "source": [
    "prediction_deepseek_coder_33b_instruct_data = pd.read_csv(\"../input/_dataset/evaluation_results_multi_shot_cot_synonyms_deepseek-ai_deepseek-coder-33b-instruct.csv\")[[\"Question\",\"Entity\",\"Expected\",\"Answers_deepseek-ai_deepseek-coder-33b-instruct\"]].rename(columns={\"Answers_deepseek-ai_deepseek-coder-33b-instruct\":\"Predicted Query\",\"Expected\":\"Expected Query\"})\n",
    "prediction_deepseek_coder_33b_instruct_data[\"predicted_query_toks\"] = prediction_deepseek_coder_33b_instruct_data[\"Predicted Query\"].apply(tokenize_sql_query).astype(str).replace(\",\",\" \")\n",
    "prediction_deepseek_coder_33b_instruct_data[\"expected_query_toks\"] = prediction_deepseek_coder_33b_instruct_data[\"Expected Query\"].apply(tokenize_sql_query).astype(str).replace(\",\",\" \")\n",
    "\n",
    "prediction_deepseek_coder_33b_instruct_data = calculate_classification(prediction_deepseek_coder_33b_instruct_data,)\n",
    "prediction_deepseek_coder_33b_instruct_data = calculate_classification_new(prediction_deepseek_coder_33b_instruct_data)\n",
    "prediction_deepseek_coder_33b_instruct_data = prediction_deepseek_coder_33b_instruct_data.rename(columns={\"query\":\"Answers_deepseek-ai_deepseek-coder-33b-instruct\"})#[[\"Question\",\"Entity\",\"Expected\",\"Answers_ibm_granite-34b-instruct\",\"query_toks\",\"count\",\"difficulty\",\"classification\",\"classification_new\"]]\n",
    "prediction_deepseek_coder_33b_instruct_data.to_csv(\"../output/inference_/deepseek-ai_deepseek-coder-33b-instruct.csv\")\n",
    "prediction_deepseek_coder_33b_instruct_data"
   ]
  },
  {
   "cell_type": "markdown",
   "id": "6f602720-c018-4407-9075-66ea85294d54",
   "metadata": {},
   "source": [
    "# ibm_granite-13b-instruct-v2"
   ]
  },
  {
   "cell_type": "code",
   "execution_count": null,
   "id": "82adb53e-0620-4033-84c5-8fd5dba4fbf2",
   "metadata": {},
   "outputs": [],
   "source": [
    "df = pd.read_csv(\"../input/_dataset/evaluation_results_multi_shot_cot_synonyms_ibm_granite-13b-instruct-v2.csv\")[[\"Question\",\"Entity\",\"Expected\",\"Answers_ibm_granite-13b-instruct-v2\"]].rename(columns={\"Answers_ibm_granite-13b-instruct-v2\":\"Predicted Query\",\"Expected\":\"Expected Query\"})\n",
    "df[\"predicted_query_toks\"] = df[\"Predicted Query\"].apply(tokenize_sql_query).astype(str).replace(\",\",\" \")\n",
    "df[\"expected_query_toks\"] = df[\"Expected Query\"].apply(tokenize_sql_query).astype(str).replace(\",\",\" \")\n",
    "\n",
    "df = calculate_classification(df,)\n",
    "df = calculate_classification_new(df)\n",
    "df = df.rename(columns={\"query\":\"Answers_ibm_granite-13b-instruct-v2\"})#[[\"Question\",\"Entity\",\"Expected\",\"Answers_ibm_granite-13b-instruct-v2\",\"query_toks\",\"count\",\"difficulty\",\"classification\",\"classification_new\"]]\n",
    "df.to_csv(\"../output/inference_/ibm_granite-13b-instruct-v2.csv\")\n",
    "df"
   ]
  },
  {
   "cell_type": "markdown",
   "id": "7dffda4d-cca2-4563-a9ba-c075deb35d89",
   "metadata": {},
   "source": [
    "# ibm_granite-20b-code-instruct"
   ]
  },
  {
   "cell_type": "code",
   "execution_count": null,
   "id": "aa0d2c30-3a2d-4c6f-a977-644abac5f90a",
   "metadata": {
    "scrolled": true
   },
   "outputs": [],
   "source": [
    "df = pd.read_csv(\"../input/_dataset/evaluation_results_multi_shot_cot_synonyms_ibm_granite-20b-code-instruct.csv\")[[\"Question\",\"Entity\",\"Expected\",\"Answers_ibm_granite-20b-code-instruct\"]].rename(columns={\"Answers_ibm_granite-20b-code-instruct\":\"Predicted Query\",\"Expected\":\"Expected Query\"})\n",
    "df[\"predicted_query_toks\"] = df[\"Predicted Query\"].apply(tokenize_sql_query).astype(str).replace(\",\",\" \")\n",
    "df[\"expected_query_toks\"] = df[\"Expected Query\"].apply(tokenize_sql_query).astype(str).replace(\",\",\" \")\n",
    "\n",
    "df = calculate_classification(df,)\n",
    "df = calculate_classification_new(df)\n",
    "df = df.rename(columns={\"query\":\"Answers_ibm_granite-20b-code-instruct\"})#[[\"Question\",\"Entity\",\"Expected\",\"Answers_ibm_granite-20b-code-instruct\",\"query_toks\",\"count\",\"difficulty\",\"classification\",\"classification_new\"]]\n",
    "df.to_csv(\"../output/inference_/ibm_granite-20b-code-instruct.csv\")\n",
    "df"
   ]
  },
  {
   "cell_type": "markdown",
   "id": "86af0174-8647-4fc9-884d-b80d253be38f",
   "metadata": {},
   "source": [
    "# ibm_granite-8b-code-instruct"
   ]
  },
  {
   "cell_type": "code",
   "execution_count": null,
   "id": "432b61b7-498a-4d43-8382-d8e69329bc1c",
   "metadata": {},
   "outputs": [],
   "source": [
    "df = pd.read_csv(\"../input/_dataset/evaluation_results_multi_shot_cot_synonyms_ibm_granite-8b-code-instruct.csv\")[[\"Question\",\"Entity\",\"Expected\",\"Answers_ibm_granite-8b-code-instruct\"]].rename(columns={\"Answers_ibm_granite-8b-code-instruct\":\"Predicted Query\",\"Expected\":\"Expected Query\"})\n",
    "df[\"predicted_query_toks\"] = df[\"Predicted Query\"].apply(tokenize_sql_query).astype(str).replace(\",\",\" \")\n",
    "df[\"expected_query_toks\"] = df[\"Expected Query\"].apply(tokenize_sql_query).astype(str).replace(\",\",\" \")\n",
    "\n",
    "df = calculate_classification(df,)\n",
    "df = calculate_classification_new(df)\n",
    "df = df.rename(columns={\"query\":\"Answers_ibm_granite-8b-code-instruct\"})#[[\"Question\",\"Entity\",\"Expected\",\"Answers_ibm_granite-8b-code-instruct\",\"query_toks\",\"count\",\"difficulty\",\"classification\",\"classification_new\"]]\n",
    "df.to_csv(\"../output/inference_/ibm_granite-8b-code-instruct.csv\")\n",
    "df"
   ]
  },
  {
   "cell_type": "markdown",
   "id": "aa673d87-240a-4ea8-87c7-7c07dc52bc74",
   "metadata": {},
   "source": [
    "# kaist-ai_prometheus-8x7b-v2"
   ]
  },
  {
   "cell_type": "code",
   "execution_count": null,
   "id": "3278f5ae-7383-40e0-beb0-ab1d8f82eb25",
   "metadata": {},
   "outputs": [],
   "source": [
    "df = pd.read_csv(\"../input/_dataset/evaluation_results_multi_shot_cot_synonyms_kaist-ai_prometheus-8x7b-v2.csv\")[[\"Question\",\"Entity\",\"Expected\",\"Answers_kaist-ai_prometheus-8x7b-v2\"]].rename(columns={\"Answers_kaist-ai_prometheus-8x7b-v2\":\"Predicted Query\",\"Expected\":\"Expected Query\"})\n",
    "df[\"predicted_query_toks\"] = df[\"Predicted Query\"].apply(tokenize_sql_query).astype(str).replace(\",\",\" \")\n",
    "df[\"expected_query_toks\"] = df[\"Expected Query\"].apply(tokenize_sql_query).astype(str).replace(\",\",\" \")\n",
    "\n",
    "df = calculate_classification(df,)\n",
    "df = calculate_classification_new(df)\n",
    "df = df.rename(columns={\"query\":\"Answers_kaist-ai_prometheus-8x7b-v2\"})#[[\"Question\",\"Entity\",\"Expected\",\"Answers_ibm_granite-8b-code-instruct\",\"query_toks\",\"count\",\"difficulty\",\"classification\",\"classification_new\"]]\n",
    "df.to_csv(\"../output/inference_/kaist-ai_prometheus-8x7b-v2.csv\")\n",
    "df"
   ]
  },
  {
   "cell_type": "markdown",
   "id": "35235731-c689-4b14-bcc3-6c276424b70a",
   "metadata": {},
   "source": [
    "# meta-llama_llama-3-70b-instruct"
   ]
  },
  {
   "cell_type": "code",
   "execution_count": null,
   "id": "4786dfd6-f80d-4f19-8f20-e88a59edf9a6",
   "metadata": {},
   "outputs": [],
   "source": [
    "df = pd.read_csv(\"../input/_dataset/evaluation_results_multi_shot_cot_synonyms_meta-llama_llama-3-70b-instruct.csv\")[[\"Question\",\"Entity\",\"Expected\",\"Answers_meta-llama_llama-3-70b-instruct\"]].rename(columns={\"Answers_meta-llama_llama-3-70b-instruct\":\"Predicted Query\",\"Expected\":\"Expected Query\"})\n",
    "df[\"predicted_query_toks\"] = df[\"Predicted Query\"].apply(tokenize_sql_query).astype(str).replace(\",\",\" \")\n",
    "df[\"expected_query_toks\"] = df[\"Expected Query\"].apply(tokenize_sql_query).astype(str).replace(\",\",\" \")\n",
    "\n",
    "df = calculate_classification(df,)\n",
    "df = calculate_classification_new(df)\n",
    "df = df.rename(columns={\"query\":\"Answers_meta-llama_llama-3-70b-instruct\"})#[[\"Question\",\"Entity\",\"Expected\",\"Answers_meta-llama_llama-3-70b-instruct\",\"query_toks\",\"count\",\"difficulty\",\"classification\",\"classification_new\"]]\n",
    "df.to_csv(\"../output/inference_/meta-llama_llama-3-70b-instruct.csv\")\n",
    "df"
   ]
  },
  {
   "cell_type": "code",
   "execution_count": null,
   "id": "b3abd360-0b3d-410f-81fb-ab22d3e51d7c",
   "metadata": {},
   "outputs": [],
   "source": [
    "df = pd.read_csv(\"../input/_dataset/evaluation_results_multi_shot_cot_synonyms_mistralai_mixtral-8x7b-instruct-v01.csv\")[[\"Question\",\"Entity\",\"Expected\",\"Answers_mistralai_mixtral-8x7b-instruct-v01\"]].rename(columns={\"Answers_mistralai_mixtral-8x7b-instruct-v01\":\"Predicted Query\",\"Expected\":\"Expected Query\"})\n",
    "df[\"predicted_query_toks\"] = df[\"Predicted Query\"].apply(tokenize_sql_query).astype(str).replace(\",\",\" \")\n",
    "df[\"expected_query_toks\"] = df[\"Expected Query\"].apply(tokenize_sql_query).astype(str).replace(\",\",\" \")\n",
    "\n",
    "df = calculate_classification(df,)\n",
    "df = calculate_classification_new(df)\n",
    "df = df.rename(columns={\"query\":\"Answers_mistralai_mixtral-8x7b-instruct-v01\"})#[[\"Question\",\"Entity\",\"Expected\",\"Answers_meta-llama_llama-3-70b-instruct\",\"query_toks\",\"count\",\"difficulty\",\"classification\",\"classification_new\"]]\n",
    "df.to_csv(\"../output/inference_/mistralai_mixtral-8x7b-instruct-v01.csv\")\n",
    "df"
   ]
  },
  {
   "cell_type": "code",
   "execution_count": null,
   "id": "6c357f22-1c12-45d4-bc90-502533014f41",
   "metadata": {},
   "outputs": [],
   "source": [
    "fig, ax = plt.subplots(1,2,figsize=(12, 6))\n",
    "ax[0].hist(prediction_codellama_34b_instruct_data[\"Expected count\"], bins=20)\n",
    "ax[0].set_xlabel('Token Length')\n",
    "ax[0].set_ylabel('Frequency')\n",
    "ax[0].set_title('Expected SQL Query Token Length Frequency')\n",
    "\n",
    "ax[1].hist(prediction_codellama_34b_instruct_data[\"Predicted count\"], bins=20)\n",
    "ax[1].set_xlabel('Token Length')\n",
    "ax[1].set_ylabel('Frequency')\n",
    "ax[1].set_title('Predicted SQL Query Token Length Frequency')"
   ]
  },
  {
   "cell_type": "code",
   "execution_count": null,
   "id": "ffc2c67b-776e-409c-a074-59af95d3175f",
   "metadata": {},
   "outputs": [],
   "source": [
    "# context_data_option = st.selectbox(\n",
    "# 'Select a input data source: ',\n",
    "#             ('codellama-34b-instruct','ibm_granite-34b-code-instruct',\n",
    "#              'deepseek-ai_deepseek-coder-33b-instruct','ibm_granite-13b-instruct-v2',\n",
    "#               'ibm_granite-20b-code-instruct','ibm_granite-8b-code-instruct' ,\n",
    "#               'kaist-ai_prometheus-8x7b-v2','meta-llama_llama-3-70b-instruct',\n",
    "#               'mistralai_mixtral-8x7b-instruct-v01'\n",
    "#               ),index=0)\n",
    "\n",
    "\n",
    "# dict_mapping =  {\n",
    "#     'codellama-34b-instruct': \"/home/askyourcorpus/owais_querycraft_experiments/QueryCraft-fork/output/inference_/codellama_34b_instruct.csv\",\n",
    "#     'ibm_granite-34b-code-instruct': \"/home/askyourcorpus/owais_querycraft_experiments/QueryCraft-fork/output/inference_/ibm_granite_34b_code_instruct.csv\",\n",
    "#     'deepseek-ai_deepseek-coder-33b-instruct': \"/home/askyourcorpus/owais_querycraft_experiments/QueryCraft-fork/output/inference_/deepseek-ai_deepseek-coder-33b-instruct.csv\",\n",
    "#     'ibm_granite-13b-instruct-v2': \"/home/askyourcorpus/owais_querycraft_experiments/QueryCraft-fork/output/inference_/ibm_granite-13b-instruct-v2.csv\",\n",
    "#     'ibm_granite-20b-code-instruct': \"/home/askyourcorpus/owais_querycraft_experiments/QueryCraft-fork/output/inference_/ibm_granite-20b-code-instruct.csv\",\n",
    "#     'ibm_granite-8b-code-instruct': \"/home/askyourcorpus/owais_querycraft_experiments/QueryCraft-fork/output/inference_/ibm_granite-8b-code-instruct.csv\",\n",
    "#     'kaist-ai_prometheus-8x7b-v2': \"/home/askyourcorpus/owais_querycraft_experiments/QueryCraft-fork/output/inference_/kaist-ai_prometheus-8x7b-v2.csv\",\n",
    "#     'meta-llama_llama-3-70b-instruct': \"/home/askyourcorpus/owais_querycraft_experiments/QueryCraft-fork/output/inference_/meta-llama_llama-3-70b-instruct.csv\",\n",
    "#     'mistralai_mixtral-8x7b-instruct-v01': \"/home/askyourcorpus/owais_querycraft_experiments/QueryCraft-fork/output/inference_/mistralai_mixtral-8x7b-instruct-v01.csv\"\n",
    "#     }"
   ]
  },
  {
   "cell_type": "code",
   "execution_count": null,
   "id": "2739833e-08f5-4704-8fa8-14db4470560d",
   "metadata": {},
   "outputs": [],
   "source": [
    "!mkdir ../output/inference__v2"
   ]
  },
  {
   "cell_type": "code",
   "execution_count": null,
   "id": "99c78501-71e0-4a2d-afcf-0daf570c4731",
   "metadata": {},
   "outputs": [],
   "source": []
  }
 ],
 "metadata": {
  "kernelspec": {
   "display_name": "Python 3 (ipykernel)",
   "language": "python",
   "name": "python3"
  },
  "language_info": {
   "codemirror_mode": {
    "name": "ipython",
    "version": 3
   },
   "file_extension": ".py",
   "mimetype": "text/x-python",
   "name": "python",
   "nbconvert_exporter": "python",
   "pygments_lexer": "ipython3",
   "version": "3.10.14"
  }
 },
 "nbformat": 4,
 "nbformat_minor": 5
}
